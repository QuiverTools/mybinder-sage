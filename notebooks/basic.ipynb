{
 "cells": [
  {
   "cell_type": "code",
   "execution_count": null,
   "id": "d91efd33",
   "metadata": {
    "lines_to_next_cell": 0
   },
   "outputs": [],
   "source": [
    "from quiver import *"
   ]
  },
  {
   "cell_type": "markdown",
   "id": "d5dcc937",
   "metadata": {
    "lines_to_next_cell": 0
   },
   "source": [
    "# QuiverTools\n",
    "\n"
   ]
  },
  {
   "cell_type": "code",
   "execution_count": null,
   "id": "440beffa",
   "metadata": {},
   "outputs": [],
   "source": [
    "Q = KroneckerQuiver(3)\n",
    "Q"
   ]
  }
 ],
 "metadata": {
  "jupytext": {
   "encoding": "# -*- coding: utf-8 -*-",
   "formats": "ipynb,py:percent"
  },
  "kernelspec": {
   "display_name": "SageMath 10.3",
   "language": "sage",
   "name": "sagemath"
  }
 },
 "nbformat": 4,
 "nbformat_minor": 5
}
